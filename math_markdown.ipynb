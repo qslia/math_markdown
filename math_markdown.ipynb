{
 "cells": [
  {
   "cell_type": "markdown",
   "id": "a30b2cb6",
   "metadata": {},
   "source": [
    "### 1\n",
    "$f(x)=g(x)+\\frac{\\rho}{2}\\|x-b\\|^{2}\\text{ where }\\rho > 0\n",
    "\\\\\\quad\n",
    "\\\\Prox_{\\gamma f}(x)=\\underset{u}{{argmin}}\\{f(u)+\\frac{1}{2\\gamma}\\|u-x\\|^{2}\\}\n",
    "\\\\\\qquad\\quad=\\underset{u}{{argmin}}\\{g(u)+\\frac{\\rho}{2}\\|u-b\\|^{2}+\\frac{1}{2\\gamma}\\|u-x\\|^{2}\\}\n",
    "\\\\\\qquad\\quad=\\underset{u}{{argmin}}\\{g(u)+\\frac{\\rho\\gamma+1}{2\\gamma}\\|u-\\frac{{\\rho}b\\gamma+x}{\\rho\\gamma+1}\\|^{2}\\}\n",
    "\\\\\\qquad\\quad=Prox_{\\frac{\\gamma }{\\gamma+1\\quad}g}\\big(\\frac{\\rho{b}\\gamma+x}{\\rho\\gamma+1}\\big)$\n",
    "\n",
    "\n",
    "\n",
    "                \n"
   ]
  },
  {
   "cell_type": "markdown",
   "id": "954f2a64",
   "metadata": {},
   "source": [
    "### 2\n",
    "$f(x)=g(x)+<a, x>\n",
    "\\\\\\quad\n",
    "\\\\Prox_{\\gamma f}(x)=\\underset{u}{{argmin}}\\{f(u)+\\frac{1}{2\\gamma}\\|u-x\\|^{2}\\}\n",
    "\\\\\\qquad\\quad=\\underset{u}{{argmin}}\\{g(u)+<a,u>+\\frac{1}{2\\gamma}\\|u-x\\|^{2}\\}\n",
    "\\\\\\qquad\\quad=\\underset{u}{{argmin}}\\{g(u)+\\frac{1}{2\\gamma}\\|u-(x-\\gamma{a})\\|^{2}\\}\n",
    "\\\\\\qquad\\quad=Prox_{\\gamma{g}}(x-\\gamma{a})$"
   ]
  },
  {
   "cell_type": "markdown",
   "id": "421a4214",
   "metadata": {},
   "source": [
    "### 3\n",
    "$f(x)=ag(x)+b,\\text{ where a > 0}\n",
    "\\\\\\quad\n",
    "\\\\Prox_{\\gamma f}(x)=\\underset{u}{{argmin}}\\{f(u)+\\frac{1}{2\\gamma}\\|u-x\\|^{2}\\}\n",
    "\\\\\\qquad\\quad=\\underset{u}{{argmin}}\\{ag(u)+b+\\frac{1}{2\\gamma}\\|u-x\\|^{2}\\}\n",
    "\\\\\\qquad\\quad=\\underset{u}{{argmin}}\\{g(u)+\\frac{1}{2a\\gamma}\\|u-x\\|^{2}+\\frac{b}{a}\\}\n",
    "\\\\\\qquad\\quad=Prox_{a\\gamma g}(x)$"
   ]
  },
  {
   "cell_type": "markdown",
   "id": "e42b56b0",
   "metadata": {},
   "source": [
    "### 4\n",
    "$f(x)=g(x+b)\n",
    "\\\\\\quad\n",
    "\\\\Prox_{\\gamma f}(x)=\\underset{u}{{argmin}}\\{f(u)+\\frac{1}{2\\gamma}\\|u-x\\|^{2}\\}\n",
    "\\\\\\qquad\\quad=\\underset{u}{{argmin}}\\{g(u+b)+\\frac{1}{2\\gamma}\\|u-x\\|^{2}\\}\n",
    "\\\\\\qquad\\quad\\overset{z=u+b}{=}\\underset{z}{{argmin}}\\{g(z)+\\frac{1}{2\\gamma}\\|z-(x+b)\\|^{2}\\}-b\n",
    "\\\\\\qquad\\quad=Prox_{\\gamma g}(x+b)-b$"
   ]
  },
  {
   "cell_type": "markdown",
   "id": "90dbec6a",
   "metadata": {},
   "source": [
    "### 5\n",
    "$f(x)=g(ax) \\text{, where a > 0}\n",
    "\\\\\\quad\n",
    "\\\\Prox_{\\gamma f}(x)=\\underset{u}{{argmin}}\\{f(u)+\\frac{1}{2\\gamma}\\|u-x\\|^{2}\\}\n",
    "\\\\\\qquad\\quad=\\underset{u}{{argmin}}\\{g(au)+\\frac{1}{2\\gamma}\\|u-x\\|^{2}\\}\n",
    "\\\\\\qquad\\quad\\overset{z=au}{=}\\frac{1}{a}\\underset{z}{{argmin}}\\{g(z)+\\frac{1}{2\\gamma}\\|\\frac{z}{a}-x\\|^{2}\\}\n",
    "\\\\\\qquad\\quad=\\frac{1}{a}\\underset{z}{argmin}\\{a^{2}g(z)+\\frac{1}{2\\gamma}\\|z-ax\\|^{2}\\}\n",
    "\\\\\\qquad\\quad=\\frac{1}{a}Prox_{\\gamma a^{2}g}(ax)$"
   ]
  },
  {
   "cell_type": "markdown",
   "id": "96ff3d9d",
   "metadata": {},
   "source": [
    "### 6\n",
    "$f(x)=g(Ax)\\text{, where A is orthonormal, } A^{T}A=AA^{T}=I\n",
    "\\\\\\qquad\\\\\n",
    "\\\\Prox_{\\gamma f}(x)=\\underset{u}{{argmin}}\\{f(u)+\\frac{1}{2\\gamma}\\|u-x\\|^{2}\\}\n",
    "\\\\\\qquad\\qquad=\\underset{u}{argmin}\\{g(Au)+\\frac{1}{2\\gamma}\\|u-x\\|^{2}\\}\n",
    "\\\\\\text{By introducing a split variable z, the problem is equivalent to}\n",
    "\\\\\\qquad\\qquad\\underset{s.t.}{min}_{u\\in V,z\\in \\mathbb{R}^{m}}\\quad\\underset{z=Au}{g(z)=\\frac{1}{2\\gamma}\\|u-x\\|^{2}}\n",
    "\\\\\\text{Let }(\\widetilde{z},\\widetilde{u})\\text{ be its optimal solution, }\\widetilde{u}=Prox_{\\gamma f}(x),\\text{fix }z=\\widetilde{z},\\text{thus }\\widetilde{u}\\text{ is the optimal } \n",
    "\\\\\\text{solution of the problem below}\n",
    "\\\\\\qquad\\underset{s.t.}{min}_{u\\in V}\\underset{Au=\\widetilde{z}}{\\quad\\frac{1}{2}\\|u-x\\|^{2}}\\quad\\text{ thus }\n",
    "\\\\\\qquad\\exists y\\in \\mathbb{R}^{m}, s.t.\\widetilde{u}\\in\\underset{u\\in V}{argmin}\\{\\frac{1}{2}\\|u-x\\|^{2}+<y,Au-\\widetilde{z}>\\},Au=\\widetilde{z}\n",
    "\\\\\\qquad\\because\\widetilde{u}=x-A^{T}y\\quad\\therefore A(x-A^{T}y)=\\widetilde{z}\n",
    "\\\\\\qquad\\text{then }ay=Ax-\\widetilde{z},\\text{ then } \\widetilde{u}=x+A^{T}(\\widetilde{z}-Ax)\n",
    "\\\\\\qquad\\qquad\\widetilde{z}=\\underset{z\\in\\mathbb{R}^{m}}{argmin}\\{g(z)+\\frac{1}{2\\gamma}\\|x+A^{T}(\\widetilde{z}-Ax)-x\\|^{2}\\}\n",
    "\\\\\\qquad\\qquad\\quad=\\underset{z\\in\\mathbb{R}^{m}}{argmin}\\{g(z)+\\frac{1}{2\\gamma}\\|z-Ax\\|^{2}\\}=Prox_{\\gamma g}(Ax)\n",
    "\\\\\\qquad\\text{Then }Prox_{\\gamma f}(x)=x+A^{T}(Prox_{\\gamma g}(Ax)-Ax)$\n"
   ]
  },
  {
   "cell_type": "markdown",
   "id": "9f1fde91",
   "metadata": {},
   "source": [
    "### 7\n",
    "$f(x)=g(aAx),\\text{ where a > 0 and A is orthonormal, }A^{T}A=AA^{T}=I\n",
    "\\\\\\quad\n",
    "\\\\\\qquad Prox_{\\gamma f}(x)=\\underset{u}{argmin}\\{g(aAu)+\\frac{1}{2\\gamma}\\|u-x\\|^{2}\\}\n",
    "\\\\\\text{By introducing a variable z, we have}\\quad \\underset{s.t.}{min}_{u\\in V,z\\in \\mathbb{R}}\\quad \\underset{z=aAx}{g(z)=\\frac{1}{2\\gamma}\\|u-x\\|^{2}}\n",
    "\\\\\\text{Let }(\\widetilde{z}, \\widetilde{u}) \\text{ be its optimal solution, } \\widetilde{u}=Prox_{\\gamma f}(x), \\text{fix }z=\\widetilde{z},\\text{ thus }\\widetilde{u} \\text{ is the optimal solution of }\n",
    "\\\\\\qquad\\underset{s.t.}{min}_{u\\in V}\\quad \\underset{aAx=\\widetilde{z}}{\\frac{1}{2}\\|u-x\\|^{2}}, \\text{ thus, }\n",
    "\\\\\\quad \\exists y\\in\\mathbb{R}, s.t. \\widetilde{u}\\in\\underset{u\\in V}{argmin}\\{\\frac{1}{2}\\|u-x\\|^{2}+<y,aAx-\\widetilde{z}>\\}, aAu=\\widetilde{z}\n",
    "\\\\\\quad\\quad\\because\\widetilde{u}=x-aA^{T}y\\quad\\therefore aA(x-A^{T}y)=\\widetilde{z}\n",
    "\\\\\\quad\\quad\\text{then }a^{2}y=aAx-\\widetilde{z},\\text{then }\\widetilde{u}=x+\\frac{1}{a}A^{T}(z-aAx)\n",
    "\\\\\\qquad\\qquad\\widetilde{z}=\\underset{z\\in\\mathbb{R}^{m}}{argmin}\\{g(z)+\\frac{1}{2\\gamma}\\|x+\\frac{1}{a}A^{T}(z-aAx)-x\\|^{2}\\}\n",
    "\\\\\\qquad\\qquad\\quad=\\underset{z\\in\\mathbb{R}^{m}}{argmin}\\{g(z)+\\frac{1}{2\\gamma}\\|\\frac{1}{a}A^{T}(z-aAx)\\|^{2}\\}\n",
    "\\\\\\qquad\\qquad\\quad=\\frac{1}{a}\\underset{z\\in\\mathbb{R}^{m}}{argmin}\\{ag(z)+\\frac{1}{2\\gamma}\\|z-aAx\\|^{2}\\}=\\frac{1}{a}Prox_{a^{2}\\gamma g}(aAx)\n",
    "\\\\\\text{Then }Prox_{\\gamma f}(x)=\\frac{x}{a}+\\frac{1}{a}A^{T}(Prox_{a^{2}\\gamma g}(aAx)-Aax)$"
   ]
  },
  {
   "cell_type": "code",
   "execution_count": null,
   "id": "4fb1abff",
   "metadata": {},
   "outputs": [],
   "source": []
  },
  {
   "cell_type": "code",
   "execution_count": null,
   "id": "386796e5",
   "metadata": {},
   "outputs": [],
   "source": []
  },
  {
   "cell_type": "code",
   "execution_count": null,
   "id": "b5dfc307",
   "metadata": {},
   "outputs": [],
   "source": []
  },
  {
   "cell_type": "code",
   "execution_count": null,
   "id": "a13df685",
   "metadata": {},
   "outputs": [],
   "source": []
  },
  {
   "cell_type": "code",
   "execution_count": null,
   "id": "31c8b27a",
   "metadata": {},
   "outputs": [],
   "source": []
  },
  {
   "cell_type": "code",
   "execution_count": null,
   "id": "283ae612",
   "metadata": {},
   "outputs": [],
   "source": []
  }
 ],
 "metadata": {
  "kernelspec": {
   "display_name": "Python 3 (ipykernel)",
   "language": "python",
   "name": "python3"
  },
  "language_info": {
   "codemirror_mode": {
    "name": "ipython",
    "version": 3
   },
   "file_extension": ".py",
   "mimetype": "text/x-python",
   "name": "python",
   "nbconvert_exporter": "python",
   "pygments_lexer": "ipython3",
   "version": "3.9.13"
  }
 },
 "nbformat": 4,
 "nbformat_minor": 5
}
